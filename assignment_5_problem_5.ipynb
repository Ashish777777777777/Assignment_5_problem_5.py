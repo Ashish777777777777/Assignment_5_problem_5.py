{
 "cells": [
  {
   "cell_type": "code",
   "execution_count": 1,
   "id": "2037a9bd",
   "metadata": {},
   "outputs": [
    {
     "name": "stdout",
     "output_type": "stream",
     "text": [
      "2500\n",
      "2400\n"
     ]
    }
   ],
   "source": [
    "class Account:\n",
    "    def __init__(self, initial_balance):\n",
    "        self.balance = initial_balance\n",
    "    \n",
    "    def getBalance(self):\n",
    "        return self.balance\n",
    "    \n",
    "    def deposit(self, amount):\n",
    "        self.balance += amount\n",
    "    \n",
    "    def withdrawal(self, amount):\n",
    "        self.balance -= amount\n",
    "\n",
    "# Child class that inherits from Account\n",
    "class ChildAccount(Account):\n",
    "    def __init__(self, initial_balance, parent_name):\n",
    "        super().__init__(initial_balance)\n",
    "        self.parent_name = parent_name\n",
    "\n",
    "# Sample usage\n",
    "if __name__ == \"__main__\":\n",
    "    balance = 2000\n",
    "    account = Account(balance)\n",
    "    \n",
    "    account.deposit(500)\n",
    "    print(account.getBalance())  # Output: 2500\n",
    "    \n",
    "    account.withdrawal(100)\n",
    "    print(account.getBalance())  # Output: 2400\n"
   ]
  },
  {
   "cell_type": "code",
   "execution_count": null,
   "id": "bbb6b5d0",
   "metadata": {},
   "outputs": [],
   "source": []
  }
 ],
 "metadata": {
  "kernelspec": {
   "display_name": "Python 3 (ipykernel)",
   "language": "python",
   "name": "python3"
  },
  "language_info": {
   "codemirror_mode": {
    "name": "ipython",
    "version": 3
   },
   "file_extension": ".py",
   "mimetype": "text/x-python",
   "name": "python",
   "nbconvert_exporter": "python",
   "pygments_lexer": "ipython3",
   "version": "3.10.9"
  }
 },
 "nbformat": 4,
 "nbformat_minor": 5
}
